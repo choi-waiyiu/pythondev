{
 "cells": [
  {
   "cell_type": "code",
   "execution_count": 5,
   "id": "20b2834c",
   "metadata": {},
   "outputs": [
    {
     "name": "stdout",
     "output_type": "stream",
     "text": [
      "2\n",
      "3\n",
      "5\n",
      "7\n",
      "11\n",
      "13\n",
      "17\n",
      "19\n",
      "23\n",
      "29\n",
      "31\n",
      "37\n",
      "41\n",
      "43\n",
      "47\n",
      "53\n",
      "59\n",
      "61\n",
      "67\n",
      "71\n",
      "73\n",
      "79\n",
      "83\n",
      "89\n",
      "97\n"
     ]
    }
   ],
   "source": [
    "def is_multiple_except_self(n, divisor):\n",
    "    return n != divisor and n % divisor == 0\n",
    "\n",
    "for i in range(1, 101):\n",
    "    if i == 1:\n",
    "        continue\n",
    "    if is_multiple_except_self(i, 2):\n",
    "        continue\n",
    "    if is_multiple_except_self(i, 3):\n",
    "        continue\n",
    "    if is_multiple_except_self(i, 5):\n",
    "        continue\n",
    "    if is_multiple_except_self(i, 7):\n",
    "        continue\n",
    "    print(i)\n"
   ]
  }
 ],
 "metadata": {
  "kernelspec": {
   "display_name": ".venv",
   "language": "python",
   "name": "python3"
  },
  "language_info": {
   "codemirror_mode": {
    "name": "ipython",
    "version": 3
   },
   "file_extension": ".py",
   "mimetype": "text/x-python",
   "name": "python",
   "nbconvert_exporter": "python",
   "pygments_lexer": "ipython3",
   "version": "3.12.4"
  }
 },
 "nbformat": 4,
 "nbformat_minor": 5
}
