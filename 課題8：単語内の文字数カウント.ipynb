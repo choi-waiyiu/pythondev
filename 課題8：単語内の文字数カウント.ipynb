{
 "cells": [
  {
   "cell_type": "code",
   "execution_count": 7,
   "id": "1113a936",
   "metadata": {},
   "outputs": [
    {
     "name": "stdout",
     "output_type": "stream",
     "text": [
      "入力した英単語：['bear', 'cat', 'dog', 'giraffe', 'horse', 'kangaroo']\n",
      "aが5個ありました\n",
      "bが1個ありました\n",
      "cが1個ありました\n",
      "dが1個ありました\n",
      "eが3個ありました\n",
      "fが2個ありました\n",
      "gが3個ありました\n",
      "hが1個ありました\n",
      "iが1個ありました\n",
      "kが1個ありました\n",
      "nが1個ありました\n",
      "oが4個ありました\n",
      "rが4個ありました\n",
      "sが1個ありました\n",
      "tが1個ありました\n"
     ]
    }
   ],
   "source": [
    "words = []\n",
    "letter_counts = {chr(c): 0 for c in range(ord('a'), ord('z') + 1)}\n",
    "\n",
    "while True:\n",
    "    word = input(\"英単語を入力してください：\")\n",
    "    if not word.strip():\n",
    "        break\n",
    "    for letter in list(word.lower()):\n",
    "        letter_counts[letter] += 1\n",
    "    words.append(word)\n",
    "\n",
    "print(f\"入力した英単語：{sorted(words)}\")\n",
    "for letter, count in letter_counts.items():\n",
    "    if count > 0:\n",
    "        print(f\"{letter}が{count}個ありました\")\n"
   ]
  }
 ],
 "metadata": {
  "kernelspec": {
   "display_name": ".venv",
   "language": "python",
   "name": "python3"
  },
  "language_info": {
   "codemirror_mode": {
    "name": "ipython",
    "version": 3
   },
   "file_extension": ".py",
   "mimetype": "text/x-python",
   "name": "python",
   "nbconvert_exporter": "python",
   "pygments_lexer": "ipython3",
   "version": "3.12.4"
  }
 },
 "nbformat": 4,
 "nbformat_minor": 5
}
