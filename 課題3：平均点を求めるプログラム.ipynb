{
 "cells": [
  {
   "cell_type": "code",
   "execution_count": 6,
   "id": "122b42df",
   "metadata": {},
   "outputs": [
    {
     "name": "stdout",
     "output_type": "stream",
     "text": [
      "10人のテストの平均点は73.4点です\n"
     ]
    }
   ],
   "source": [
    "total_score = 0\n",
    "number_of_people = 0\n",
    "\n",
    "while True:\n",
    "    score = int(input(\"点数を入力してください：\"))\n",
    "    if score == -1:\n",
    "        break\n",
    "    total_score += score\n",
    "    number_of_people += 1\n",
    "\n",
    "average_score = round(total_score / number_of_people, 2)\n",
    "print(f\"{number_of_people}人のテストの平均点は{average_score:.1f}点です\")\n"
   ]
  }
 ],
 "metadata": {
  "kernelspec": {
   "display_name": ".venv",
   "language": "python",
   "name": "python3"
  },
  "language_info": {
   "codemirror_mode": {
    "name": "ipython",
    "version": 3
   },
   "file_extension": ".py",
   "mimetype": "text/x-python",
   "name": "python",
   "nbconvert_exporter": "python",
   "pygments_lexer": "ipython3",
   "version": "3.12.4"
  }
 },
 "nbformat": 4,
 "nbformat_minor": 5
}
