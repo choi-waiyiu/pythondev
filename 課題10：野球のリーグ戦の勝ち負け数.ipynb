{
 "cells": [
  {
   "cell_type": "code",
   "execution_count": 7,
   "id": "3f6652ed",
   "metadata": {},
   "outputs": [
    {
     "name": "stdout",
     "output_type": "stream",
     "text": [
      "team       win lose draw rate \n",
      "Archers     77   64    2 0.546\n",
      "Meteors     71   69    3 0.507\n",
      "Cheetahs    69   68    6 0.504\n",
      "Sharks      70   70    3 0.500\n",
      "Pythons     68   73    2 0.482\n",
      "Owls        59   82    2 0.418\n"
     ]
    }
   ],
   "source": [
    "class Baseball_Team:\n",
    "    def __init__(self, name, win, lose, draw):\n",
    "        self.__name = name\n",
    "        self.__win = win\n",
    "        self.__lose = lose\n",
    "        self.__draw = draw\n",
    "    \n",
    "    def calc_win_rate(self):\n",
    "        return self.__win / (self.__win + self.__lose)\n",
    "    \n",
    "    def show_team_result(self):\n",
    "        win_rate = self.calc_win_rate()\n",
    "        print(f\"{self.__name:10} {self.__win:3} {self.__lose:4} {self.__draw:4} {win_rate:5.3f}\")\n",
    "    \n",
    "    @classmethod\n",
    "    def print_header(self):\n",
    "        header = (\"team\",\"win\",\"lose\",\"draw\",\"rate\")\n",
    "        print(f\"{header[0]:10} {header[1]:3} {header[2]:4} {header[3]:4} {header[4]:5}\")\n",
    "\n",
    "data = [(\"Archers\",77,64,2),(\"Meteors\",71,69,3),(\"Cheetahs\",69,68,6),(\"Sharks\",70,70,3),(\"Pythons\",68,73,2),(\"Owls\",59,82,2)]\n",
    "\n",
    "Baseball_Team.print_header()\n",
    "for name, win, lose, draw in data:\n",
    "    team = Baseball_Team(name, win, lose, draw)\n",
    "    team.show_team_result()\n"
   ]
  }
 ],
 "metadata": {
  "kernelspec": {
   "display_name": ".venv",
   "language": "python",
   "name": "python3"
  },
  "language_info": {
   "codemirror_mode": {
    "name": "ipython",
    "version": 3
   },
   "file_extension": ".py",
   "mimetype": "text/x-python",
   "name": "python",
   "nbconvert_exporter": "python",
   "pygments_lexer": "ipython3",
   "version": "3.12.4"
  }
 },
 "nbformat": 4,
 "nbformat_minor": 5
}
